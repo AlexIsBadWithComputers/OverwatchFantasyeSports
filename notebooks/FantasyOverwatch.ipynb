{
 "cells": [
  {
   "cell_type": "markdown",
   "metadata": {},
   "source": [
    "# Fantasy Hockey Draft\n",
    "\n",
    "This notebook will simulate a fantasy hockey draft using Markowitz optimization strategies, and also supports the possiblity of a human player. "
   ]
  },
  {
   "cell_type": "code",
   "execution_count": null,
   "metadata": {},
   "outputs": [],
   "source": [
    "import numpy as np\n",
    "import pandas as pd\n",
    "import cvxpy as cp\n",
    "import importlib\n",
    "import sys\n",
    "\n",
    "sys.path.insert(1, '../')\n",
    "import scripts.overwatch_optim as ow\n",
    "\n",
    "# need to keep reloading for development work because \n",
    "# I apparently like Jupyter too much \n",
    "importlib.reload(ow)"
   ]
  },
  {
   "cell_type": "markdown",
   "metadata": {},
   "source": [
    "## Importing Data Created in `Data Wrangling.ipynb`"
   ]
  },
  {
   "cell_type": "code",
   "execution_count": null,
   "metadata": {},
   "outputs": [],
   "source": [
    "player_data = pd.read_csv(\"../../with_date.csv\")\n",
    "player_data= player_data[(player_data.date < '2019-08-15') & (player_data.date > '2019-02-14')]\n",
    "# aggregate all scores into an array for each player\n",
    "player_data = player_data.dropna(subset=['name'])\n",
    "scores = player_data[['name', 'score',]].groupby('name').agg(lambda x: list(x)).reset_index()\n",
    "#all_points = pd.DataFrame(scores.score.tolist(), columns = scores.name)\n",
    "#\n",
    "# pd.DataFrame(np.transpose(scores.score), columns = scores.name)\n",
    "a = pd.DataFrame(scores.score.to_list()).T\n",
    "a.columns = scores.name\n",
    "a = a.fillna(0)\n",
    "all_points=a.copy()\n",
    "idx = list(all_points.mean().sort_values(ascending=False).index)\n",
    "    "
   ]
  },
  {
   "cell_type": "markdown",
   "metadata": {},
   "source": [
    "## Finding Indexes\n",
    "As we're only interested in aggregate inddexes of average player returns, we need to find each players index according to the aggregation, as well s the indexes of the players in each position done below."
   ]
  },
  {
   "cell_type": "code",
   "execution_count": null,
   "metadata": {},
   "outputs": [],
   "source": [
    "# Finding index in an aggregate score for each position\n",
    "pointies = list(all_points.mean().index)\n",
    "\n",
    "offence = ow.position_indexes(pointies,all_points,player_data,idx, \"offense\")\n",
    "tank = ow.position_indexes(pointies,all_points,player_data,idx, \"tank\")\n",
    "support = ow.position_indexes(pointies,all_points, player_data,idx,\"support\")\n",
    "\n"
   ]
  },
  {
   "cell_type": "markdown",
   "metadata": {},
   "source": [
    "## Running the Draft\n",
    "\n",
    "Here we run the actual draft. Noe that `order` defines the order of the draft and automatically reverses after each round. Also note that the teams will be returned in the order that tay appear in the `functions` list in the final result. "
   ]
  },
  {
   "cell_type": "code",
   "execution_count": null,
   "metadata": {
    "scrolled": false
   },
   "outputs": [],
   "source": [
    "importlib.reload(ow)\n",
    "\n",
    "functions = [ow.optim_player, ow.optim_player,\n",
    "             ow.optim_player, ow.optim_player]\n",
    "#              ow.optim_player, \n",
    "#              ow.optim_player, \n",
    "#             ow.optim_player, \n",
    "#             ow.optim_player,\n",
    "#             ow.optim_player]\n",
    "\n",
    "greedy_selections = {}\n",
    "greedy_selections['goalie'] = []\n",
    "greedy_selections['defence'] = []\n",
    "greedy_selections['center'] = []\n",
    "greedy_selections['right_winger'] = []\n",
    "greedy_selections['left_winger'] = []\n",
    "\n",
    "\n",
    "order = [0,1,2,3]\n",
    "\n",
    "assert len(order) == len(functions)\n",
    "\n",
    "args = dict(scores = all_points, \n",
    "            gammaa = [1, .001, .5, 0], \n",
    "            greedy_selections = greedy_selections,\n",
    "            df = player_data,\n",
    "            offence = offence,\n",
    "            tank = tank,\n",
    "            support = support,\n",
    "            selection = ['max', 'optim', 'rms', 'max', 'optim', 'optim', 'optim', 'optim'],\n",
    "            sub_gamma = [None, .0001, None, None, .2, .8, .3, .4])\n",
    "taken = []\n",
    "all_players, teams = ow.draft(functions, order, pause = False, team_size=6, **args)\n",
    "\n",
    "\n",
    "\n"
   ]
  },
  {
   "cell_type": "code",
   "execution_count": null,
   "metadata": {},
   "outputs": [],
   "source": [
    "ohboy = player_data[player_data.name.isin(list(all_points.iloc[:,teams[order[1]]]))]\n",
    "print(ohboy.name.unique())\n",
    "print(ohboy['score'].sum())\n",
    "print(ohboy['score'].mean())\n",
    "ohboy['score'].hist()"
   ]
  },
  {
   "cell_type": "code",
   "execution_count": null,
   "metadata": {},
   "outputs": [],
   "source": [
    "ohboy.drop_duplicates(subset='name')"
   ]
  }
 ],
 "metadata": {
  "kernelspec": {
   "display_name": "Python 3",
   "language": "python",
   "name": "python3"
  },
  "language_info": {
   "codemirror_mode": {
    "name": "ipython",
    "version": 3
   },
   "file_extension": ".py",
   "mimetype": "text/x-python",
   "name": "python",
   "nbconvert_exporter": "python",
   "pygments_lexer": "ipython3",
   "version": "3.6.9"
  },
  "nbTranslate": {
   "displayLangs": [
    "*"
   ],
   "hotkey": "alt-t",
   "langInMainMenu": true,
   "sourceLang": "en",
   "targetLang": "fr",
   "useGoogleTranslate": true
  }
 },
 "nbformat": 4,
 "nbformat_minor": 2
}
